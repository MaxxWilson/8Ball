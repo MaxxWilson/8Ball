{
 "cells": [
  {
   "cell_type": "code",
   "execution_count": 1,
   "metadata": {},
   "outputs": [],
   "source": [
    "import numpy as np\n",
    "import cv2 "
   ]
  },
  {
   "cell_type": "code",
   "execution_count": 2,
   "metadata": {},
   "outputs": [],
   "source": [
    "green_stripe = cv2.imread('green_stripe.png')\n",
    "red_stripe = cv2.imread('red_stripe.png')\n",
    "purple_solid = cv2.imread('purple_solid.png')\n",
    "red_solid = cv2.imread('red_solid.png')\n",
    "orange_solid = cv2.imread('orange_solid.png')\n",
    "green_solid = cv2.imread('green_solid.png')\n",
    "yellow_solid = cv2.imread('yellow_solid.png')\n",
    "yellow_stripe = cv2.imread('yellow_stripe.png')\n",
    "bred_solid = cv2.imread('bred_solid.png')\n",
    "\n"
   ]
  },
  {
   "cell_type": "code",
   "execution_count": 3,
   "metadata": {},
   "outputs": [],
   "source": [
    "white = [255, 255, 255]  # RGB\n",
    "purp = [50, 60, 132]\n",
    "diff = 80\n",
    "boundaries = [([white[2]-diff, white[1]-diff, white[0]-diff],\n",
    "                   [white[2], white[1], white[0]])]\n",
    "\n",
    "pboundaries = [([purp[2]-diff/2, purp[1]-diff/2, purp[0]-diff/2],\n",
    "                   [purp[2]+diff/2, purp[1]+diff/2, purp[0]+diff/2])]"
   ]
  },
  {
   "cell_type": "code",
   "execution_count": 4,
   "metadata": {},
   "outputs": [],
   "source": [
    "def nocrashimshow(img, name):\n",
    "    cv2.imshow(name, img)\n",
    "    cv2.waitKey(0)\n",
    "    cv2.destroyAllWindows()\n",
    "    cv2.imwrite(name + '.jpg', img)\n",
    "    \n",
    "def colorPicker (img, boundaries):\n",
    "    for (lower, upper) in boundaries:\n",
    "        lower = np.array(lower, dtype=np.uint8)\n",
    "        upper = np.array(upper, dtype=np.uint8)\n",
    "        mask = cv2.inRange(img, lower, upper)\n",
    "        output = cv2.bitwise_and(img, img, mask=mask)\n",
    "        white_pix_count = cv2.countNonZero(mask)\n",
    "        \n",
    "            \n",
    "        print(\"white pix count: \",  white_pix_count )\n",
    "            \n",
    "        if (white_pix_count < 1600):\n",
    "            print (\"Solid ball\")\n",
    "                \n",
    "        else:\n",
    "            print(\"Stripe ball\")\n",
    "            \n",
    "        #ratio_white = cv2.countNonZero(mask)/(img.size/3)\n",
    "        #print('white pixel percentage:' np.round(ratio_white*100 2))\n",
    "        nocrashimshow(np.hstack([img, output]), \"images\")\n",
    "        #cv2.waitKey(0)\n",
    "        \n",
    "def colorPicker2 (img, boundaries):\n",
    "    for (lower, upper) in boundaries:\n",
    "        lower = np.array(lower, dtype=np.uint8)\n",
    "        upper = np.array(upper, dtype=np.uint8)\n",
    "        mask = cv2.inRange(img, lower, upper)\n",
    "        output = cv2.bitwise_and(img, img, mask=mask)\n",
    "    \n",
    "    return output"
   ]
  },
  {
   "cell_type": "code",
   "execution_count": 5,
   "metadata": {},
   "outputs": [],
   "source": [
    "img = colorPicker2(purple_solid, pboundaries) + colorPicker2(purple_solid, boundaries)\n",
    "\n",
    "nocrashimshow(img, \"purple ball\")\n",
    "\n",
    "\n",
    "\n"
   ]
  },
  {
   "cell_type": "code",
   "execution_count": null,
   "metadata": {},
   "outputs": [],
   "source": []
  }
 ],
 "metadata": {
  "kernelspec": {
   "display_name": "Python 3",
   "language": "python",
   "name": "python3"
  },
  "language_info": {
   "codemirror_mode": {
    "name": "ipython",
    "version": 3
   },
   "file_extension": ".py",
   "mimetype": "text/x-python",
   "name": "python",
   "nbconvert_exporter": "python",
   "pygments_lexer": "ipython3",
   "version": "3.8.3"
  }
 },
 "nbformat": 4,
 "nbformat_minor": 4
}
