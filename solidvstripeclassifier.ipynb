{
 "cells": [
  {
   "cell_type": "code",
   "execution_count": 7,
   "metadata": {},
   "outputs": [],
   "source": [
    "import numpy as np\n",
    "import cv2 "
   ]
  },
  {
   "cell_type": "code",
   "execution_count": 25,
   "metadata": {},
   "outputs": [],
   "source": [
    "\n",
    "rednBlue = cv2.imread('test_regions/Large1.png')\n",
    "yellownGreen = cv2.imread('test_regions/Large2.png')\n",
    "red = cv2.imread('test_regions/Medium1.png')\n",
    "blue = cv2.imread('test_regions/Medium2.png')\n",
    "maroon = cv2.imread('test_regions/Medium3.png')\n",
    "greennBlue = cv2.imread('test_regions/Medium4.png')\n",
    "white = cv2.imread('test_regions/Medium5.png')\n",
    "purple =  cv2.imread('test_regions/Medium6.png')\n",
    "orange = cv2.imread('test_regions/Medium7.png')\n",
    "redStripe = cv2.imread('test_regions/Medium8.png')\n",
    "\n",
    "orangeSolid = cv2.imread('test_regions/Medium9.png')\n",
    "\n",
    "black = cv2.imread('test_regions/Small2.png')\n",
    "\n",
    "\n",
    "\n",
    "\n",
    "\n",
    "\n",
    "\n",
    "\n",
    "\n",
    "\n",
    "\n",
    "\n",
    "\n",
    "\n",
    "\n"
   ]
  },
  {
   "cell_type": "code",
   "execution_count": null,
   "metadata": {},
   "outputs": [],
   "source": []
  },
  {
   "cell_type": "code",
   "execution_count": 26,
   "metadata": {},
   "outputs": [],
   "source": [
    "colors = {\n",
    "    \"PURPLE\" : [41, 45, 109],\n",
    "    \"BLUE\" : [0, 69, 121] \n",
    "    }\n"
   ]
  },
  {
   "cell_type": "code",
   "execution_count": 27,
   "metadata": {},
   "outputs": [],
   "source": [
    "def nocrashimshow(img, name):\n",
    "    cv2.imshow(name, img)\n",
    "    cv2.waitKey(0)\n",
    "    cv2.destroyAllWindows()\n",
    "    cv2.imwrite(name + '.jpg', img)\n",
    "    \n",
    "def boundariesMaker(rgbColor, diff):\n",
    "    boundaries = [([max(rgbColor[2]-diff/2, 0), max(rgbColor[1]-diff/2,0), max(rgbColor[0]-diff/2, 0)],\n",
    "                   [min(rgbColor[2]+diff/2,255), min(rgbColor[1]+diff/2,255), min(rgbColor[0]+diff/2, 255)])]\n",
    "    \n",
    "    return boundaries\n",
    "    \n",
    "    \n",
    "def colorPicker (img, boundaries):\n",
    "    for (lower, upper) in boundaries:\n",
    "        lower = np.array(lower, dtype=np.uint8)\n",
    "        upper = np.array(upper, dtype=np.uint8)\n",
    "        mask = cv2.inRange(img, lower, upper)\n",
    "        output = cv2.bitwise_and(img, img, mask=mask)\n",
    "        white_pix_count = cv2.countNonZero(mask)\n",
    "        \n",
    "            \n",
    "        print(\"white pix count: \",  white_pix_count )\n",
    "            \n",
    "        if (white_pix_count < 1600):\n",
    "            print (\"Solid ball\")\n",
    "                \n",
    "        else:\n",
    "            print(\"Stripe ball\")\n",
    "            \n",
    "        #ratio_white = cv2.countNonZero(mask)/(img.size/3)\n",
    "        #print('white pixel percentage:' np.round(ratio_white*100 2))\n",
    "        nocrashimshow(np.hstack([img, output]), \"images\")\n",
    "        #cv2.waitKey(0)\n",
    "        \n",
    "def colorPicker2 (img, boundaries):\n",
    "    for (lower, upper) in boundaries:\n",
    "        lower = np.array(lower, dtype=np.uint8)\n",
    "        upper = np.array(upper, dtype=np.uint8)\n",
    "        mask = cv2.inRange(img, lower, upper)\n",
    "        output = cv2.bitwise_and(img, img, mask=mask)\n",
    "    \n",
    "    return output"
   ]
  },
  {
   "cell_type": "code",
   "execution_count": 24,
   "metadata": {},
   "outputs": [],
   "source": [
    "blueBoundaries = boundariesMaker(colors[\"BLUE\"], 60)\n",
    "img = colorPicker2(blue, blueBoundaries)\n",
    "nocrashimshow(img, \"blue\")\n",
    "\n"
   ]
  },
  {
   "cell_type": "code",
   "execution_count": 28,
   "metadata": {},
   "outputs": [],
   "source": [
    "nocrashimshow(blue, \"purple ball\")\n",
    "\n"
   ]
  },
  {
   "cell_type": "code",
   "execution_count": null,
   "metadata": {},
   "outputs": [],
   "source": []
  }
 ],
 "metadata": {
  "kernelspec": {
   "display_name": "Python 3",
   "language": "python",
   "name": "python3"
  },
  "language_info": {
   "codemirror_mode": {
    "name": "ipython",
    "version": 3
   },
   "file_extension": ".py",
   "mimetype": "text/x-python",
   "name": "python",
   "nbconvert_exporter": "python",
   "pygments_lexer": "ipython3",
   "version": "3.8.3"
  }
 },
 "nbformat": 4,
 "nbformat_minor": 4
}
