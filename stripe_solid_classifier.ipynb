{
 "cells": [
  {
   "cell_type": "code",
   "execution_count": 1,
   "metadata": {},
   "outputs": [],
   "source": [
    "import numpy as np\n",
    "import cv2\n",
    "\n",
    "# in order BGR as opencv represents images as numpy arrays in reverse order\n",
    "\n"
   ]
  },
  {
   "cell_type": "code",
   "execution_count": 2,
   "metadata": {},
   "outputs": [],
   "source": [
    "img = cv2.imread('red_stripe.png')\n"
   ]
  },
  {
   "cell_type": "code",
   "execution_count": null,
   "metadata": {},
   "outputs": [],
   "source": [
    "white = [255, 255, 255]  # RGB\n",
    "diff = 60\n",
    "boundaries = [([white[2]-diff, white[1]-diff, white[0]-diff],\n",
    "               [white[2], white[1], white[0]])]\n"
   ]
  },
  {
   "cell_type": "code",
   "execution_count": null,
   "metadata": {},
   "outputs": [],
   "source": [
    "for (lower, upper) in boundaries:\n",
    "    lower = np.array(lower, dtype=np.uint8)\n",
    "    upper = np.array(upper, dtype=np.uint8)\n",
    "    mask = cv2.inRange(img, lower, upper)\n",
    "    output = cv2.bitwise_and(img, img, mask=mask)\n",
    "\n",
    "    ratio_white = cv2.countNonZero(mask)/(img.size/3)\n",
    "    print('white pixel percentage:', np.round(ratio_white*100, 2))\n",
    "\n",
    "    nocrashimshow(np.hstack([img, output]), \"images\")\n",
    "    #cv2.waitKey(0)"
   ]
  },
  {
   "cell_type": "code",
   "execution_count": 3,
   "metadata": {},
   "outputs": [],
   "source": [
    "def nocrashimshow(img, name):\n",
    "    cv2.imshow(name, img)\n",
    "    cv2.waitKey(0)\n",
    "    cv2.destroyAllWindows()\n",
    "    cv2.imwrite(name + '.jpg', img)\n",
    "    \n"
   ]
  },
  {
   "cell_type": "code",
   "execution_count": null,
   "metadata": {},
   "outputs": [],
   "source": [
    "grey_img= cv2.cvtColor(img, cv2.COLOR_BGR2GRAY)\n",
    "grey_img = cv2.adaptiveThreshold(grey_img,255,cv2.ADAPTIVE_THRESH_GAUSSIAN_C,\\\n",
    "            cv2.THRESH_BINARY,11,2)\n",
    "nocrashimshow(grey_img, \"thresh\")\n",
    "\n"
   ]
  },
  {
   "cell_type": "code",
   "execution_count": null,
   "metadata": {},
   "outputs": [],
   "source": []
  }
 ],
 "metadata": {
  "kernelspec": {
   "display_name": "Python 3",
   "language": "python",
   "name": "python3"
  },
  "language_info": {
   "codemirror_mode": {
    "name": "ipython",
    "version": 3
   },
   "file_extension": ".py",
   "mimetype": "text/x-python",
   "name": "python",
   "nbconvert_exporter": "python",
   "pygments_lexer": "ipython3",
   "version": "3.8.3"
  }
 },
 "nbformat": 4,
 "nbformat_minor": 4
}
