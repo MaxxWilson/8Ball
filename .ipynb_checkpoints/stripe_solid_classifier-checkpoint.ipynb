{
 "cells": [
  {
   "cell_type": "code",
   "execution_count": 14,
   "metadata": {},
   "outputs": [],
   "source": [
    "import numpy as np\n",
    "import cv2\n",
    "\n",
    "# in order BGR as opencv represents images as numpy arrays in reverse order\n",
    "\n"
   ]
  },
  {
   "cell_type": "code",
   "execution_count": 15,
   "metadata": {},
   "outputs": [],
   "source": [
    "green_stripe = cv2.imread('green_stripe.png')\n",
    "red_stripe = cv2.imread('red_stripe.png')\n",
    "purple_solid = cv2.imread('purple_solid.png')\n",
    "red_solid = cv2.imread('red_solid.png')\n",
    "orange_solid = cv2.imread('orange_solid.png')\n",
    "green_solid = cv2.imread('green_solid.png')\n",
    "yellow_solid = cv2.imread('yellow_solid.png')\n",
    "yellow_stripe = cv2.imread('yellow_stripe.png')\n",
    "bred_solid = cv2.imread('bred_solid.png')"
   ]
  },
  {
   "cell_type": "code",
   "execution_count": 16,
   "metadata": {},
   "outputs": [],
   "source": [
    "white = [255, 255, 255]  # RGB\n",
    "diff = 60\n",
    "boundaries = [([white[2]-diff, white[1]-diff, white[0]-diff],\n",
    "               [white[2], white[1], white[0]])]\n"
   ]
  },
  {
   "cell_type": "code",
   "execution_count": null,
   "metadata": {},
   "outputs": [
    {
     "name": "stdout",
     "output_type": "stream",
     "text": [
      "white pixel percentage: 0.0\n"
     ]
    }
   ],
   "source": [
    "for (lower, upper) in boundaries:\n",
    "    lower = np.array(lower, dtype=np.uint8)\n",
    "    upper = np.array(upper, dtype=np.uint8)\n",
    "    mask = cv2.inRange(img, lower, upper)\n",
    "    output = cv2.bitwise_and(img, img, mask=mask)\n",
    "\n",
    "    ratio_white = cv2.countNonZero(mask)/(img.size/3)\n",
    "    print('white pixel percentage:', np.round(ratio_white*100, 2))\n",
    "\n",
    "    nocrashimshow(np.hstack([img, output]), \"images\")\n",
    "    #cv2.waitKey(0)"
   ]
  },
  {
   "cell_type": "code",
   "execution_count": 17,
   "metadata": {},
   "outputs": [],
   "source": [
    "def nocrashimshow(img, name):\n",
    "    cv2.imshow(name, img)\n",
    "    cv2.waitKey(0)\n",
    "    cv2.destroyAllWindows()\n",
    "    cv2.imwrite(name + '.jpg', img)\n",
    "    \n",
    "def classifyBall(img, name):\n",
    "    grey_img= cv2.cvtColor(img, cv2.COLOR_BGR2GRAY)\n",
    "    retval, th3=cv2.threshold(grey_img, 150, 255, cv2.THRESH_BINARY)\n",
    "    kernel = np.ones((4,4), np.uint8)\n",
    "    erosion = cv2.erode(th3, kernel, iterations = 1)\n",
    "\n",
    "    #nocrashimshow(erosion, name)\n",
    "    n_white_pix = np.sum(erosion == 255)\n",
    "    print('Number of white pixels:', n_white_pix)\n",
    "    \n",
    "def colorPicker (img, boundaries):\n",
    "    for (lower, upper) in boundaries:\n",
    "        lower = np.array(lower, dtype=np.uint8)\n",
    "        upper = np.array(upper, dtype=np.uint8)\n",
    "        mask = cv2.inRange(img, lower, upper)\n",
    "        output = cv2.bitwise_and(img, img, mask=mask)\n",
    "        \n",
    "        print(\"white pix count: \", cv2.countNonZero(mask))\n",
    "        #ratio_white = cv2.countNonZero(mask)/(img.size/3)\n",
    "        #print('white pixel percentage:', np.round(ratio_white*100, 2))\n",
    "\n",
    "        nocrashimshow(np.hstack([img, output]), \"images\")\n",
    "        #cv2.waitKey(0)\n",
    "        \n"
   ]
  },
  {
   "cell_type": "code",
   "execution_count": 6,
   "metadata": {},
   "outputs": [
    {
     "name": "stdout",
     "output_type": "stream",
     "text": [
      "Number of white pixels: 3518\n",
      "white pix count:  2510\n"
     ]
    }
   ],
   "source": [
    "\n",
    "classifyBall(red_stripe, \"red\")\n",
    "colorPicker(red_stripe, boundaries)\n"
   ]
  },
  {
   "cell_type": "code",
   "execution_count": 7,
   "metadata": {},
   "outputs": [
    {
     "name": "stdout",
     "output_type": "stream",
     "text": [
      "Number of white pixels: 4104\n",
      "white pix count:  2080\n"
     ]
    }
   ],
   "source": [
    "classifyBall(green_stripe, \"red\")\n",
    "colorPicker(green_stripe, boundaries)\n"
   ]
  },
  {
   "cell_type": "code",
   "execution_count": 8,
   "metadata": {},
   "outputs": [
    {
     "name": "stdout",
     "output_type": "stream",
     "text": [
      "Number of white pixels: 1607\n",
      "white pix count:  1557\n"
     ]
    }
   ],
   "source": [
    "classifyBall(purple_solid, \"red\")\n",
    "colorPicker(purple_solid, boundaries)\n"
   ]
  },
  {
   "cell_type": "code",
   "execution_count": 9,
   "metadata": {},
   "outputs": [
    {
     "name": "stdout",
     "output_type": "stream",
     "text": [
      "Number of white pixels: 1660\n",
      "white pix count:  436\n"
     ]
    }
   ],
   "source": [
    "classifyBall(orange_solid, \"red\")\n",
    "colorPicker(orange_solid, boundaries)\n"
   ]
  },
  {
   "cell_type": "code",
   "execution_count": 10,
   "metadata": {},
   "outputs": [
    {
     "name": "stdout",
     "output_type": "stream",
     "text": [
      "Number of white pixels: 264\n",
      "white pix count:  0\n"
     ]
    }
   ],
   "source": [
    "classifyBall(red_solid, \"red\")\n",
    "colorPicker(red_solid, boundaries)\n"
   ]
  },
  {
   "cell_type": "code",
   "execution_count": 11,
   "metadata": {},
   "outputs": [
    {
     "name": "stdout",
     "output_type": "stream",
     "text": [
      "Number of white pixels: 1362\n",
      "white pix count:  1107\n"
     ]
    }
   ],
   "source": [
    "classifyBall(green_solid, \"red\")\n",
    "colorPicker(green_solid, boundaries)\n"
   ]
  },
  {
   "cell_type": "code",
   "execution_count": 12,
   "metadata": {},
   "outputs": [
    {
     "name": "stdout",
     "output_type": "stream",
     "text": [
      "Number of white pixels: 9202\n",
      "white pix count:  0\n"
     ]
    }
   ],
   "source": [
    "classifyBall(yellow_solid, \"red\")\n",
    "colorPicker(yellow_solid, boundaries)\n"
   ]
  },
  {
   "cell_type": "code",
   "execution_count": 13,
   "metadata": {},
   "outputs": [
    {
     "name": "stdout",
     "output_type": "stream",
     "text": [
      "Number of white pixels: 8991\n",
      "white pix count:  1675\n"
     ]
    }
   ],
   "source": [
    "classifyBall(yellow_stripe, \"red\")\n",
    "colorPicker(yellow_stripe, boundaries)\n"
   ]
  },
  {
   "cell_type": "code",
   "execution_count": 18,
   "metadata": {},
   "outputs": [
    {
     "name": "stdout",
     "output_type": "stream",
     "text": [
      "Number of white pixels: 552\n",
      "white pix count:  0\n"
     ]
    }
   ],
   "source": [
    "classifyBall(bred_solid, \"red\")\n",
    "colorPicker(bred_solid, boundaries)\n"
   ]
  },
  {
   "cell_type": "code",
   "execution_count": null,
   "metadata": {},
   "outputs": [],
   "source": []
  }
 ],
 "metadata": {
  "kernelspec": {
   "display_name": "Python 3",
   "language": "python",
   "name": "python3"
  },
  "language_info": {
   "codemirror_mode": {
    "name": "ipython",
    "version": 3
   },
   "file_extension": ".py",
   "mimetype": "text/x-python",
   "name": "python",
   "nbconvert_exporter": "python",
   "pygments_lexer": "ipython3",
   "version": "3.8.3"
  }
 },
 "nbformat": 4,
 "nbformat_minor": 4
}
